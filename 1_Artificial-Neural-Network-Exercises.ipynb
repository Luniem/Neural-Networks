{
  "cells": [
    {
      "cell_type": "markdown",
      "metadata": {
        "id": "6q4slNMqhWmR"
      },
      "source": [
        "# Artificial Neural Networks - Exercises\n",
        "\n",
        "**NOTICE:**\n",
        "1. You are allowed to work in groups of up to three people but **have to document** your group's\\\n",
        " members in the top cell of your notebook.\n",
        "2. **Comment your code**, explain what you do (refer to the slides). It will help you understand the topics\\\n",
        " and help me understand your thinking progress. Quality of comments will be graded.\n",
        "3. **Discuss** and analyze your results, **write-down your learnings**. These exercises are no programming\\\n",
        " exercises it is about learning and getting a touch for these methods. Such questions might be asked in the\\\n",
        " final exams.\n",
        " 4. Feel free to **experiment** with these methods. Change parameters think about improvements, write down\\\n",
        " what you learned. This is not only about collecting points for the final grade, it is about understanding\\\n",
        "  the methods."
      ]
    },
    {
      "cell_type": "code",
      "execution_count": 1,
      "metadata": {
        "id": "l2qIBcbnhWmS"
      },
      "outputs": [],
      "source": [
        "import numpy as np\n",
        "import time"
      ]
    },
    {
      "cell_type": "markdown",
      "metadata": {
        "id": "jUlYP3-phWmS"
      },
      "source": [
        "### Exercise 1 - Training via Moore-Penrose Inverse\n",
        "\n",
        "\n",
        "**Summary:** In this exercise you will use the Moore-Penrose inverse to \"train\" a single (linear) neuron. It will help you\\\n",
        "to form a more solid understanding about what training a neural network really means and which shortcomings this method\\\n",
        "has in a practical setting. It also acts as your first chance to get in touch with **numpy** which is one of the most useful\\\n",
        "libraries in any machine-learning setting.\n",
        "\n",
        "\n",
        "**Provided Code:** For this exercise I have written a function ```generate_data()``` (see cell below) that can be used to\\\n",
        "generate some training data. Notice that ```generate_data()``` accepts a lambda (anonymous) function to generate data. Lambdas\\\n",
        "can be defined like this: ```generate_data(fun=lambda x: 3*x+1)```\n",
        "\n",
        "Some useful library functions in this exercise could be: ```numpy.ones(), numpy.column_stack(), numpy.linalg.pinv()```.\\\n",
        "Use ```numpy.dot()``` to compute a matrix multiplication.\n",
        "\n",
        "\n",
        "\n",
        "**Your Tasks in this exercise:**\n",
        "1. Generate Data for any linear (affine) function and find the parameters for a single neuron using\\\n",
        "the Moore-Penrose inverse.\n",
        "2. Experiment with different functions and training-set sizes.\n",
        "3. Try to compute the inverse of large matrices, at what point do you reach a practical limit?\n",
        "4. Why do you think this method is rarely used in practise (discuss and write-down your answer)?\n",
        "\n",
        "\n",
        "\n"
      ]
    },
    {
      "cell_type": "code",
      "execution_count": 3,
      "metadata": {
        "id": "Vfb-_zGMhWmT"
      },
      "outputs": [],
      "source": [
        "#@title **Provided Code:** ``generate_data()`` function.\n",
        "import matplotlib.pyplot as plt\n",
        "import numpy as np\n",
        "\n",
        "def generate_data(fun=lambda x:3*x+1, mu=0, std=1, n=10):\n",
        "    ''' Generates data for Exercise 1. Fun is a lambda (anonymous function)\n",
        "    that it used to compute the target values (y) for given inputs (x), i.e.:\n",
        "    y = fun(x).\n",
        "    '''\n",
        "    x = mu + std * np.random.randn(n)\n",
        "    y = fun(x) + 0.3 * np.random.randn(n) # add some noise\n",
        "    return x,y"
      ]
    },
    {
      "cell_type": "markdown",
      "source": [
        "Loesen der gleichung kann folgendermassen passieren:\n",
        "\n",
        "Ax = d | hinzufuegen der Inversen-Matrix \\\n",
        "A^(-1)Ax = A^(-1)d | A^(-1)A gibt die Identity-Matrix, Multiplikation mit x gibt wieder x \\\n",
        "x = A^(-1)d\n",
        "\n",
        "A ist in diesem Fall unser Input und eine Einser-Spalte fuer den Bias x ist unser weight und unser bias und d ist unserer Output.\n",
        "\n",
        "Somit koennen wir die Inverse der Input-Einser-Matrix mit der Output-Matrix multiplizieren und erhalten den Weight und den Bias.\n",
        "\n",
        "Zur Erinnerung (Aufbau eines Neurons):\n",
        "\n",
        "y = w*x+b\n"
      ],
      "metadata": {
        "id": "FQSqxkkbDtTZ"
      }
    },
    {
      "cell_type": "code",
      "source": [
        "# Wir generieren Daten fuer die Funktion f(x)=3x+1\n",
        "generated_data = generate_data(fun=lambda x: 3*x+1)\n",
        "\n",
        "# Scheint als ob der Input an der ersten und der Output mit Noise an der zweiten Stelle liegt\n",
        "print(\"Input und noisy outputs: \")\n",
        "print(generated_data[0])\n",
        "print(generated_data[1])\n",
        "\n",
        "inputs = generated_data[0]\n",
        "outputs = generated_data[1]\n",
        "\n",
        "# Erstellen einer matrix fuer X (Erste Spalte alle Inputs, zweite Spalte fuer den konstanten Bias lauter 1)\n",
        "X = np.column_stack((inputs, np.ones(len(inputs))))\n",
        "\n",
        "# Berechnen der Moore-Penrose-Inverse\n",
        "inverse = np.linalg.pinv(X)\n",
        "\n",
        "# Matrix-Multiplikation fuer weight und bias\n",
        "weight, bias = np.dot(inverse, outputs)\n",
        "\n",
        "print()\n",
        "print(\"Weight: \", weight)\n",
        "print(\"Bias: \", weight)"
      ],
      "metadata": {
        "id": "lg6qcX4NEAbA",
        "outputId": "2071ff80-baee-499d-d333-911b6b578216",
        "colab": {
          "base_uri": "https://localhost:8080/"
        }
      },
      "execution_count": 4,
      "outputs": [
        {
          "output_type": "stream",
          "name": "stdout",
          "text": [
            "Input und noisy outputs: \n",
            "[-0.96509621  0.64382348 -1.01199435  0.17997785  1.8652732  -0.26381264\n",
            " -1.31900216  0.59460796 -0.9885239   0.80602179]\n",
            "[-1.5308135   3.24395697 -2.39472244  1.77378188  6.4734654   0.23282926\n",
            " -3.15897176  2.86829411 -1.82794685  3.25513238]\n",
            "\n",
            "Weight:  3.0086480440637375\n",
            "Bias:  3.0086480440637375\n"
          ]
        }
      ]
    },
    {
      "cell_type": "code",
      "source": [
        "def get_mse(real_values, predicted_values):\n",
        "  # muessen gleich viele elemente haben\n",
        "  assert len(real_values) == len(predicted_values), \"Values und Predicted muessen gleich viele Elemente besitzen.\"\n",
        "\n",
        "  return (1 / len(real_values)) * np.sum(np.square(real_values - predicted_values))\n",
        "\n",
        "# Funktion fuer ein Neuron\n",
        "def get_simple_neuron_output(weight, bias, input):\n",
        "  return np.dot(weight, input) + bias\n",
        "\n",
        "# Simples Neuron berechnen lassen mit ausgerechnetem Weight und bias\n",
        "neuron_output = get_simple_neuron_output(weight, bias, inputs)\n",
        "\n",
        "# Mit noisy output vergleichen\n",
        "mean_squared_error = get_mse(outputs, neuron_output)\n",
        "\n",
        "print(\"Unsere angefertigtes Neuron hat einen MSE von: \", mean_squared_error)\n",
        "\n",
        "print()\n",
        "print(\"Fuer erneute Durchlaeufe gibt es immer ein unterschiedliches Gewicht und Bias, doch das Neuron weisst eine recht gute Genauigkeit auf!\")"
      ],
      "metadata": {
        "id": "VKVOC0mrEIPX",
        "outputId": "da19eb1b-a8e4-4da9-d5fb-2c81f536c913",
        "colab": {
          "base_uri": "https://localhost:8080/"
        }
      },
      "execution_count": 5,
      "outputs": [
        {
          "output_type": "stream",
          "name": "stdout",
          "text": [
            "Unsere angefertigtes Neuron hat einen MSE von:  0.05124362868459714\n",
            "\n",
            "Fuer erneute Durchlaeufe gibt es immer ein unterschiedliches Gewicht und Bias, doch das Neuron weisst eine recht gute Genauigkeit auf!\n"
          ]
        }
      ]
    },
    {
      "cell_type": "code",
      "source": [
        "# Inverse einer grossen Matrix berechnen\n",
        "\n",
        "# Neue Daten mit n inputs erstellen\n",
        "n = [1, 10, 50, 100, 200, 500, 1000, 1250, 1500, 1750, 2000, 2150, 2300, 2450, 2600, 2750,2900, 3000]\n",
        "y = []\n",
        "for i in n:\n",
        "  matrix = np.eye(i)\n",
        "\n",
        "  # Zeit messen und inverse berechnen\n",
        "  start_time = time.time()\n",
        "  inverse_test_matrix = np.linalg.pinv(matrix)\n",
        "  end_time = time.time()\n",
        "  duration = end_time - start_time\n",
        "  y.append(duration)\n",
        "\n",
        "plt.plot(n,y)"
      ],
      "metadata": {
        "id": "AIKoiI2gEPEW",
        "outputId": "308d618f-8002-43a0-a9f2-2849239309aa",
        "colab": {
          "base_uri": "https://localhost:8080/",
          "height": 448
        }
      },
      "execution_count": 14,
      "outputs": [
        {
          "output_type": "execute_result",
          "data": {
            "text/plain": [
              "[<matplotlib.lines.Line2D at 0x7a6a755371d0>]"
            ]
          },
          "metadata": {},
          "execution_count": 14
        },
        {
          "output_type": "display_data",
          "data": {
            "text/plain": [
              "<Figure size 640x480 with 1 Axes>"
            ],
            "image/png": "[encoded data removed]"
          },
          "metadata": {}
        }
      ]
    },
    {
      "cell_type": "markdown",
      "source": [
        "Sieht wie quadratisches Wachstum aus. wenn wir bedenken, dass wir fuer jedes Neuron so eine Inverse berechnen muessen, dann sind wir wirklich schnell an einem Limit."
      ],
      "metadata": {
        "id": "XVUtvJ7lLPyT"
      }
    },
    {
      "cell_type": "markdown",
      "metadata": {
        "id": "ZUusB6DohWmT"
      },
      "source": [
        "### Exercise 2 - Neural Networks as Universal Approximators\n",
        "\n",
        "\n",
        "**Summary:** In this exercise you will experiment with a neural network to understand what the Universal Approximation Theorem tells us. Remember, UAT tell us that neural networks can basically approximate any function.\n",
        "\n",
        "\n",
        "\n",
        "\n",
        "**Provided Code:** For this exercise I have provided you with some python code such that will help you train a neural net. Use the ```approximate_NN()``` function to do so. You can supply custom mathematical function of your choice (the function the net tries to approximate) using lambdas such as in the call:\n",
        "\n",
        "```python\n",
        "approximate_NN(lambda x: 3*(x**2) + 6, -10, 10, epochs=50, hidden_layers=1, neurons_per_layer=32)\n",
        "```\n",
        "\n",
        "This will train the weights and biases to approximate the function $f(x):=3x^2 + 6$ within the interval $[-10;10]$ using 50 epochs for training a single layer of hidden neurons with 32 neurons each.\n",
        "\n",
        "\n",
        "\n",
        "\n",
        "**Your Tasks in this exercise:**\n",
        "\n",
        "1. Experiment and answer the following questions\n",
        "    * What is the effect of changing the number of neurons vs. the number of hidden layers?\n",
        "    * What is the effect of having very simple vs. more and more complex functions with regards the the required neurons/layers?\n",
        "    * Does more training (more epochs) automatically mean better result?\n",
        "    * Can you find a function that we can not approximate?\n",
        "    * What happens outside the interval we used for training (indicated by the red dashed lines in the plots)?\n",
        "    \n",
        "\n",
        "\n"
      ]
    },
    {
      "cell_type": "code",
      "execution_count": null,
      "metadata": {
        "id": "7QRAzXCPhWmU",
        "outputId": "aae56f72-c6c6-414e-c18c-b8a967374260"
      },
      "outputs": [
        {
          "name": "stdout",
          "output_type": "stream",
          "text": [
            "2.10.1\n"
          ]
        },
        {
          "name": "stderr",
          "output_type": "stream",
          "text": [
            "Der Befehl \"pip\" ist entweder falsch geschrieben oder\n",
            "konnte nicht gefunden werden.\n"
          ]
        }
      ],
      "source": [
        "#@title **Provided Code:** ``approximate_NN()`` function, and some private helpers.\n",
        "\n",
        "!pip install matplotlib --upgrade\n",
        "\n",
        "import tensorflow as tf\n",
        "import numpy as np\n",
        "from tensorflow import keras\n",
        "from tensorflow.keras.optimizers import SGD, Adam\n",
        "from tensorflow.keras.layers import Dense\n",
        "from tensorflow.keras import Sequential\n",
        "from tensorflow.keras.activations import relu\n",
        "\n",
        "import math\n",
        "\n",
        "import matplotlib.pyplot as plt\n",
        "print(tf.__version__)\n",
        "\n",
        "def target_poly(x):\n",
        "    output = np.empty(len(x))\n",
        "    for i in range(len(x)):\n",
        "        output[i] = (1/4.0) * (x[i]+4) * (x[i] + 1) * (x[i] - 2)\n",
        "    return output\n",
        "\n",
        "def target_poly_3(x):\n",
        "    output = np.empty(len(x))\n",
        "    for i in range(len(x)):\n",
        "        output[i] = 2 * x[i]**3 + x[i]**2 - x[i]\n",
        "    return output\n",
        "\n",
        "# polynomial with 8 roots\n",
        "def target_poly_7(x):\n",
        "    output = np.empty(len(x))\n",
        "    for i in range(len(x)):\n",
        "        output[i] = x[i]**7 + 4*x[i]**6 - 14*x[i]**5 - 56*x[i]**4 + 49*x[i]**3 + 196*x[i]**2 - 36*x[i] - 144\n",
        "    return output\n",
        "\n",
        "# a very high dimensional polygon\n",
        "def target_poly_14(x):\n",
        "    output = np.empty(len(x))\n",
        "    for i in range(len(x)):\n",
        "        output[i] = x[i]**14 - 0.97*x[i]**13 - 27.5669*x[i]**12 + 28.596911*x[i]**11 + 291.72658501*x[i]**10 - 322.8791018467*x[i]**9 - 1482.7415839005*x[i]**8 + 1741.757256169*x[i]**7 + 3643.0791581657*x[i]**6 - 4525.2996198175*x[i]**5 - 3566.980623085*x[i]**4 + 4745.7344671655*x[i]**3 + 263.42489522071*x[i]**2 - 614.82116925297+x[i] + 66.216725787218\n",
        "    return output\n",
        "\n",
        "def target_sine(x):\n",
        "    output = np.empty(len(x))\n",
        "    for i in range(len(x)):\n",
        "        output[i] = math.sin(x[i])\n",
        "    return output\n",
        "\n",
        "\n",
        "def mother_wavelet(x):\n",
        "    return (np.sin(2*np.pi*x) - np.sin(np.pi * x)) / np.pi * x\n",
        "\n",
        "\n",
        "def plot_target(target_func):\n",
        "    x = np.linspace(-3,3, 1000)\n",
        "    plt.plot(x,target_func(x), linestyle='--', color='C1', linewidth=2)\n",
        "\n",
        "def combine_neurons(neurons, weights, bias, target_func):\n",
        "    x = np.arange(-3, 3, 0.01)\n",
        "    y = np.zeros((len(neurons[0])))\n",
        "    plt.figure(figsize=(20,8))\n",
        "    fig, ax = plt.subplots()\n",
        "    for index in range(len(neurons)):\n",
        "        y = y + neurons[index] * weights[index]\n",
        "    y = y + bias\n",
        "    y2 = target_func(x)\n",
        "    plt.plot(x, y, label='ReLUs', linewidth=3)\n",
        "    plt.plot(x, y2, label='Real Function', linestyle='--', color='C1', linewidth=2)\n",
        "\n",
        "    mse = (np.sum((y - y2)**2)) / len(y)\n",
        "\n",
        "    ax.grid(True, which='both')\n",
        "    ax.axhline(y=0, color='k', linewidth=0.75)\n",
        "    ax.axvline(x=0, color='k', linewidth=0.75)\n",
        "    plt.title(\"MSE = %f\" % mse)\n",
        "\n",
        "\n",
        "def approximate_NN(target_func, min_value=-10, max_value=10, epochs=50, hidden_layers=1, neurons_per_layer=8):\n",
        "    # Create a NN with a single hidden layer to learn the polynomial function\n",
        "    #\n",
        "    model = keras.Sequential()\n",
        "    for x in range(hidden_layers):\n",
        "        model.add(Dense(neurons_per_layer, input_dim=1, activation='relu', use_bias=True))\n",
        "    model.add(Dense(1,  use_bias=True)) # 1 Neuron\n",
        "\n",
        "    sgd = Adam(learning_rate=0.01) # set lower learning rate\n",
        "    model.compile(sgd, loss='mean_squared_error')\n",
        "\n",
        "    # Create some data\n",
        "    #\n",
        "    X = np.random.uniform(min_value, max_value, (50000,1))\n",
        "    Y = target_func(X)\n",
        "\n",
        "    model.fit(X,Y, epochs=epochs, batch_size=512);\n",
        "\n",
        "    # Plot neural network\n",
        "    #\n",
        "    x_test = np.arange(min_value-np.abs(min_value*0.25), max_value+np.abs(max_value*0.25), 0.01)\n",
        "    y_test_nn = model.predict(x_test)\n",
        "    y_real = target_func(x_test)\n",
        "\n",
        "    mse = np.sum((np.ravel(y_real) - np.ravel(y_test_nn))**2)\n",
        "\n",
        "    plt.figure(figsize=(8,5))\n",
        "    plt.axline((min_value, 0), (min_value,10), color=\"r\", linestyle='dashed', linewidth=0.75)\n",
        "    plt.axline((max_value, 0), (max_value,10), color=\"r\", linestyle='dashed', linewidth=0.75)\n",
        "\n",
        "    plt.plot(x_test, y_test_nn, label='Approximation using NN')\n",
        "    plt.plot(x_test, y_real, linestyle ='-.', label='Real Function')\n",
        "    plt.legend()\n",
        "\n",
        "    return model"
      ]
    },
    {
      "cell_type": "code",
      "execution_count": null,
      "metadata": {
        "id": "0RODPtQDhWmU"
      },
      "outputs": [],
      "source": []
    },
    {
      "cell_type": "markdown",
      "metadata": {
        "id": "H92weXrFhWmU"
      },
      "source": [
        "### Exercise 3 - Rectified Linear Units\n",
        "\n",
        "\n",
        "**Summary:** In this exercise you are provided with a neuron equipped with a ReLU as activation function. You can  \n",
        " supply the neuron parameters manually (the weight and bias term) as ```neuron(3, 2)``` will compute and plot  \n",
        " all the output values generated by the neuron for all input values in an interval of $[-3;3]$.\n",
        "\n",
        " **Hint:** You can use the semi-colon in the call ```neuron(3, 2);``` to suppress the output.\n",
        "\n",
        "**Provided Code:** In the cell below you find the implementation of the ```neuron()``` function.\n",
        "\n",
        "\n",
        "**Your Tasks in this exercise:**\n",
        "\n",
        "1. Experiment and answer the following questions\n",
        "    * What is the effect of changing the weight?\n",
        "    * What is the effect of changing the bias?\n",
        "\n",
        "\n"
      ]
    },
    {
      "cell_type": "code",
      "execution_count": null,
      "metadata": {
        "id": "p8NSh150hWmV"
      },
      "outputs": [],
      "source": [
        "#@title **Provided Code:** ``neuron()`` function.\n",
        "import numpy as np\n",
        "import tensorflow as tf\n",
        "import matplotlib.pyplot as plt\n",
        "\n",
        "def neuron(w, b, plot=True):\n",
        "    x = np.arange(-3, 3, 0.01)\n",
        "    y = tf.keras.activations.relu(x * w + b)\n",
        "    if plot:\n",
        "        fig, ax = plt.subplots()\n",
        "        plt.ylim((-10, 10))\n",
        "        ax.grid(True, which='both')\n",
        "        plt.plot(x, y)\n",
        "    return y"
      ]
    },
    {
      "cell_type": "code",
      "execution_count": null,
      "metadata": {
        "id": "3b1TVjTphWmV"
      },
      "outputs": [],
      "source": []
    },
    {
      "cell_type": "markdown",
      "metadata": {
        "id": "ZX4RfZDKhWmW"
      },
      "source": [
        "### Exercise 4:\n",
        "\n",
        "\n",
        "**Summary:** A mathematical function is linear *iff* $f(x)+f(y) = f(x+y)$ and $\\lambda f(x) = f(\\lambda x)$.\n",
        "\n",
        "**Provided Code:** No code.\n",
        "\n",
        "\n",
        "**Your Tasks in this exercise:**\n",
        "\n",
        "1. Show that ReLU is not a linear function.\n",
        "\n"
      ]
    },
    {
      "cell_type": "markdown",
      "metadata": {
        "id": "OyW9KH6JhWmW"
      },
      "source": [
        "### Exercise 5:\n",
        "\n",
        "\n",
        "**Summary:** You saw that we can combine neurons to a neural network. Try to manually find the weights for approximating the ```target_poly_3``` function.  Use the ```combine_neurons``` function to combine multiple neurons.\n",
        "\n",
        "```python\n",
        "def combine_neurons(neurons, weights, bias, target_func):\n",
        "    \"\"\" Parameters:\n",
        "    neurons - a list of neurons such sa created by the neuron() function\n",
        "    weights - a list of weights used by the output layer neuron\n",
        "    bias - a single bias value used by the output layer neuron\n",
        "    target_func - a function to plot as reference for approximation\n",
        "    \"\"\"  \n",
        "```\n",
        "\n",
        "**Provided Code:** In the cell below you find the implementation of the ```combine_neurons()``` function.\n",
        "\n",
        "\n",
        "**Your Tasks in this exercise:**\n",
        "\n",
        "1. Experiment with parameters for a neural network to approximate the ```target_poly_3``` function (*You can do this via trial and error / elaborate guessing, no calculations are necessary*).\n",
        "2. Try to find the parameters of a neural network to approximate the ```target_sine``` function (*this might be difficult*).\n",
        "3. Use the call to ```model = approximate_NN(...)``` to let tensorflow find the weights and biases for approximating the ```target_sine``` function. Have a look at ```model.layers[0].weights``` and ```model.layers[1].weights``` to help you find appropriate parameters for this problem.\n"
      ]
    },
    {
      "cell_type": "code",
      "execution_count": null,
      "metadata": {
        "id": "2lWtWh-LhWmW"
      },
      "outputs": [],
      "source": [
        "#@title **Provided Code:** ``combine_neurons()`` function.\n",
        "import numpy as np\n",
        "import tensorflow as tf\n",
        "import matplotlib.pyplot as plt\n",
        "\n",
        "def combine_neurons(neurons, weights, bias, target_func):\n",
        "    x = np.arange(-3, 3, 0.01)\n",
        "    y = np.zeros((len(neurons[0])))\n",
        "    plt.figure(figsize=(20,8))\n",
        "    fig, ax = plt.subplots()\n",
        "    for index in range(len(neurons)):\n",
        "        y = y + neurons[index] * weights[index]\n",
        "    y = y + bias\n",
        "    y2 = target_func(x)\n",
        "    plt.plot(x, y, label='ReLUs', linewidth=3)\n",
        "    plt.plot(x, y2, label='Real Function', linestyle='--', color='C1', linewidth=2)\n",
        "\n",
        "    mse = (np.sum((y - y2)**2)) / len(y)\n",
        "\n",
        "    ax.grid(True, which='both')\n",
        "    ax.axhline(y=0, color='k', linewidth=0.75)\n",
        "    ax.axvline(x=0, color='k', linewidth=0.75)\n",
        "    plt.title(\"MSE = %f\" % mse)"
      ]
    },
    {
      "cell_type": "code",
      "execution_count": null,
      "metadata": {
        "id": "wQhTpuY3hWmW",
        "outputId": "bff59bf8-7d2c-4f02-8761-dc610e7bb657"
      },
      "outputs": [
        {
          "data": {
            "text/plain": [
              "<Figure size 2000x800 with 0 Axes>"
            ]
          },
          "metadata": {},
          "output_type": "display_data"
        },
        {
          "data": {
            "image/png": "[encoded data removed]",
            "text/plain": [
              "<Figure size 640x480 with 1 Axes>"
            ]
          },
          "metadata": {},
          "output_type": "display_data"
        }
      ],
      "source": [
        "# Combine two neurons\n",
        "#\n",
        "r1 = neuron(3,0, False)\n",
        "r2 = neuron(-3,0, False)\n",
        "# r1 is weighted by 1 and -1 with a bias of -5 in the output layer neuron\n",
        "#\n",
        "combine_neurons([r1, r2], [1, -1], -5, target_poly_3)"
      ]
    },
    {
      "cell_type": "markdown",
      "metadata": {
        "id": "3XxGfwD1hWmX"
      },
      "source": [
        "### Exercise 6:\n",
        "\n",
        "\n",
        "**Summary:** In this exercise you will learn how a the neurons in a nerual net are connected. We have a network with 3 hidden layers.\\\n",
        "The amount of neurons in the first, second and third hidden layer is 10, 20 and 30. Each layer uses a bias term.\\\n",
        "The output layer contains 5 neurons and does not use a bias term. The input dimension of our data is 17.\n",
        "\n",
        "\n",
        "**Provided Code:** No code.\n",
        "\n",
        "\n",
        "**Your Tasks in this exercise:**\n",
        "1. Draw the architecture of this NN by hand and calculate the total number of parameters (weights+biases)\n",
        "2. Implement the architecture in Keras and verify your result.\n"
      ]
    },
    {
      "cell_type": "code",
      "execution_count": null,
      "metadata": {
        "id": "YYMXjJschWmX"
      },
      "outputs": [],
      "source": []
    }
  ],
  "metadata": {
    "celltoolbar": "Edit Metadata",
    "kernelspec": {
      "display_name": "Python 3 (ipykernel)",
      "language": "python",
      "name": "python3"
    },
    "language_info": {
      "codemirror_mode": {
        "name": "ipython",
        "version": 3
      },
      "file_extension": ".py",
      "mimetype": "text/x-python",
      "name": "python",
      "nbconvert_exporter": "python",
      "pygments_lexer": "ipython3",
      "version": "3.8.18"
    },
    "colab": {
      "provenance": []
    }
  },
  "nbformat": 4,
  "nbformat_minor": 0
}