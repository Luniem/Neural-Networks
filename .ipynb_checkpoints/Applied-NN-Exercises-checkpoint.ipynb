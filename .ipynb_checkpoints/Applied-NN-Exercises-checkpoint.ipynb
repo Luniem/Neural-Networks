{
 "cells": [
  {
   "cell_type": "markdown",
   "metadata": {
    "id": "FSugZgHdkajY"
   },
   "source": [
    "# Applied Neural Networks - Exercises\n",
    "\n",
    "**NOTICE:**\n",
    "1. You are allowed to work in groups of up to three people but **have to document** your group's\\\n",
    " members in the top cell of your notebook.\n",
    "2. **Comment your code**, explain what you do (refer to the slides). It will help you understand the topics\\\n",
    " and help me understand your thinking progress. Quality of comments will be graded.\n",
    "3. **Discuss** and analyze your results, **write-down your learnings**. These exercises are no programming\\\n",
    " exercises it is about learning and getting a touch for these methods. Such questions might be asked in the\\\n",
    " final exams.\n",
    " 4. Feel free to **experiment** with these methods. Change parameters think about improvements, write down\\\n",
    " what you learned. This is not only about collecting points for the final grade, it is about understanding\\\n",
    "  the methods."
   ]
  },
  {
   "cell_type": "markdown",
   "metadata": {
    "id": "sFReMDJgkajZ"
   },
   "source": [
    "### Exercise 1 - Data Normalization and Standardization\n",
    "\n",
    "\n",
    "**Summary:** In this exercise you will implement the min-max normalization and standardization and compare it to\\\n",
    "sklearn's implementation. It is important to remember, that we always normalize or standardize for all samples\\\n",
    " over a single feature dimension.\n",
    "\n",
    "\n",
    "**Provided Code:** In the cell below I have provided you with a sample code to initialize some dummy data.\\\n",
    "The parameter ```n_samples``` defines the number of samples we have in the training set (the number of $x_i$)\\\n",
    "while ```n_features``` defines the number of dimensions of each sample feature vector.\n",
    "\n",
    "\n",
    "**Your Tasks in this exercise:**\n",
    "1. Implement the MinMax Normalization and Standardization.\n",
    "2. Use the ```MinMaxScaler``` and ```StandardScaler``` from sklearn to verify your results.\n"
   ]
  },
  {
   "cell_type": "code",
   "execution_count": 11,
   "metadata": {
    "id": "llbzqEfTkajZ"
   },
   "outputs": [],
   "source": [
    "from sklearn.datasets import make_regression\n",
    "from sklearn.preprocessing import MinMaxScaler, StandardScaler\n",
    "import numpy as np\n",
    "\n",
    "x,y = make_regression(n_samples=10, n_features=5)"
   ]
  },
  {
   "cell_type": "code",
   "execution_count": 12,
   "metadata": {
    "colab": {
     "base_uri": "https://localhost:8080/"
    },
    "editable": true,
    "id": "nsmap-tGLGkq",
    "outputId": "e5c104f8-7427-4a11-e389-fb50ab5928c0",
    "slideshow": {
     "slide_type": ""
    },
    "tags": []
   },
   "outputs": [
    {
     "name": "stdout",
     "output_type": "stream",
     "text": [
      "Min-Max eigene Implementierung:\n",
      " [[0.90714908 0.76267317 0.470956   0.15407526 0.50533234]\n",
      " [0.31642394 0.81259452 0.87415356 0.89590649 1.        ]\n",
      " [0.         0.31953456 0.38409741 0.8460838  0.59386738]\n",
      " [0.16997408 1.         0.60464886 0.10402576 0.2890577 ]\n",
      " [0.40004481 0.40520219 0.52445745 0.44773822 0.779701  ]\n",
      " [1.         0.2089756  0.43599269 0.10052597 0.74898992]\n",
      " [0.7449665  0.62067185 0.80133498 1.         0.79907367]\n",
      " [0.4342449  0.22964097 0.         0.95037973 0.59821362]\n",
      " [0.65934977 0.         0.33183356 0.66491229 0.90327515]\n",
      " [0.26322959 0.55055696 1.         0.         0.        ]]\n"
     ]
    }
   ],
   "source": [
    "# min aller features\n",
    "x_min = np.min(x, axis=0)\n",
    "\n",
    "# max aller features\n",
    "x_max = np.max(x, axis=0)\n",
    "\n",
    "# min-max scaling fuer alle features\n",
    "x_minmax = (x - x_min) / (x_max - x_min)\n",
    "\n",
    "print(\"Min-Max eigene Implementierung:\\n\", x_minmax)\n",
    "# Man sieht hier sehr gut, dass es fuer jedes Feature ein Wert mit 1 und einen Wert mit 0 gibt (die jeweiligen Min und Max-Werte, koennten auch mehrere sein, wenn min/max oefter vorkommt)"
   ]
  },
  {
   "cell_type": "code",
   "execution_count": 13,
   "metadata": {
    "colab": {
     "base_uri": "https://localhost:8080/"
    },
    "id": "W4v39YJeLoQk",
    "outputId": "fd95d8e5-4669-4ee9-f85c-ea5a02d1c9a2"
   },
   "outputs": [
    {
     "name": "stdout",
     "output_type": "stream",
     "text": [
      "Standardisierung eigene Implementierung:\n",
      " [[ 1.34568375  0.91463449 -0.25859695 -0.95384065 -0.40979983]\n",
      " [-0.55783312  1.08269402  1.19374392  0.99926259  1.33145524]\n",
      " [-1.57745842 -0.57718544 -0.5714666   0.86808875 -0.09815203]\n",
      " [-1.02974424  1.71359194  0.22297245 -1.08561163 -1.17109742]\n",
      " [-0.28837828 -0.28878658 -0.06588163 -0.18068086  0.55599168]\n",
      " [ 1.64488093 -0.94938066 -0.38453682 -1.09482593  0.44788712]\n",
      " [ 0.82307645  0.43658902  0.93144721  1.27332138  0.62418443]\n",
      " [-0.17817399 -0.87981096 -1.95500764  1.14268046 -0.08285302]\n",
      " [ 0.54719028 -1.65289408 -0.75972402  0.39109796  0.9909789 ]\n",
      " [-0.72924336  0.20054825  1.64705008 -1.35949206 -2.18859508]]\n"
     ]
    }
   ],
   "source": [
    "# mittelwert aller features\n",
    "x_mean = np.mean(x, axis=0)\n",
    "# standardabweichung der features\n",
    "x_std = np.std(x, axis=0)\n",
    "\n",
    "# standardisieren fuer alle features\n",
    "x_standard = (x - x_mean) / x_std\n",
    "\n",
    "print(\"Standardisierung eigene Implementierung:\\n\", x_standard)"
   ]
  },
  {
   "cell_type": "code",
   "execution_count": 14,
   "metadata": {
    "colab": {
     "base_uri": "https://localhost:8080/"
    },
    "id": "6mSD-pB3L07-",
    "outputId": "4d2c4100-9da9-48da-c306-4849e3d4cdc9"
   },
   "outputs": [
    {
     "name": "stdout",
     "output_type": "stream",
     "text": [
      "Sklearn MinMax-Scaler:\n",
      " [[0.90714908 0.76267317 0.470956   0.15407526 0.50533234]\n",
      " [0.31642394 0.81259452 0.87415356 0.89590649 1.        ]\n",
      " [0.         0.31953456 0.38409741 0.8460838  0.59386738]\n",
      " [0.16997408 1.         0.60464886 0.10402576 0.2890577 ]\n",
      " [0.40004481 0.40520219 0.52445745 0.44773822 0.779701  ]\n",
      " [1.         0.2089756  0.43599269 0.10052597 0.74898992]\n",
      " [0.7449665  0.62067185 0.80133498 1.         0.79907367]\n",
      " [0.4342449  0.22964097 0.         0.95037973 0.59821362]\n",
      " [0.65934977 0.         0.33183356 0.66491229 0.90327515]\n",
      " [0.26322959 0.55055696 1.         0.         0.        ]]\n",
      "Differenz:  -5.273559366969494e-16\n",
      "Verglichen mit der eigenen Implementierung, sieht man, dass unsere Implementierung ebenfalls richtig sein sollte. Differenz ist sehr gering.\n"
     ]
    }
   ],
   "source": [
    "# minmax-scaler aus sklearn erstellen\n",
    "scaler_minmax = MinMaxScaler()\n",
    "# scaler fitten (min-max der features berechnen) und transformen (das wirkliche anpassen jedes wertes an das gefittete)\n",
    "x_minmax_sklearn = scaler_minmax.fit_transform(x)\n",
    "\n",
    "print(\"Sklearn MinMax-Scaler:\\n\", x_minmax_sklearn)\n",
    "print(\"Differenz: \", np.sum(x_minmax - x_minmax_sklearn))\n",
    "\n",
    "print(\"Verglichen mit der eigenen Implementierung, sieht man, dass unsere Implementierung ebenfalls richtig sein sollte. Differenz ist sehr gering.\")"
   ]
  },
  {
   "cell_type": "code",
   "execution_count": 15,
   "metadata": {
    "colab": {
     "base_uri": "https://localhost:8080/"
    },
    "id": "Q853zJUxL8xw",
    "outputId": "5f001058-e621-466f-bb59-498f3322f5b2"
   },
   "outputs": [
    {
     "name": "stdout",
     "output_type": "stream",
     "text": [
      "Sklearn Standard-Scaler:\n",
      " [[ 1.34568375  0.91463449 -0.25859695 -0.95384065 -0.40979983]\n",
      " [-0.55783312  1.08269402  1.19374392  0.99926259  1.33145524]\n",
      " [-1.57745842 -0.57718544 -0.5714666   0.86808875 -0.09815203]\n",
      " [-1.02974424  1.71359194  0.22297245 -1.08561163 -1.17109742]\n",
      " [-0.28837828 -0.28878658 -0.06588163 -0.18068086  0.55599168]\n",
      " [ 1.64488093 -0.94938066 -0.38453682 -1.09482593  0.44788712]\n",
      " [ 0.82307645  0.43658902  0.93144721  1.27332138  0.62418443]\n",
      " [-0.17817399 -0.87981096 -1.95500764  1.14268046 -0.08285302]\n",
      " [ 0.54719028 -1.65289408 -0.75972402  0.39109796  0.9909789 ]\n",
      " [-0.72924336  0.20054825  1.64705008 -1.35949206 -2.18859508]]\n",
      "Differenz:  0.0\n",
      "Verglichen mit der eigenen Implementierung, sieht man, dass unsere Implementierung ebenfalls richtig sein sollte. Differenz ist 0.\n"
     ]
    }
   ],
   "source": [
    "# standard-scaler aus sklearn erstellen\n",
    "scaler_standard = StandardScaler()\n",
    "# scaler fitten (mean und std der features berechnen) und transformen (das wirkliche anpassen jedes wertes an das gefittete)\n",
    "x_standard_sklearn = scaler_standard.fit_transform(x)\n",
    "\n",
    "print(\"Sklearn Standard-Scaler:\\n\", x_standard_sklearn)\n",
    "print(\"Differenz: \", np.sum(x_standard - x_standard_sklearn))\n",
    "\n",
    "print(\"Verglichen mit der eigenen Implementierung, sieht man, dass unsere Implementierung ebenfalls richtig sein sollte. Differenz ist 0.\")"
   ]
  },
  {
   "cell_type": "markdown",
   "metadata": {
    "id": "f8klM070kaja"
   },
   "source": [
    "### Exercise 2 - Softmax\n",
    "\n",
    "**Summary:** In this exercise you will implement the softmax activation using the naive and numerically\\\n",
    "more stable log-sum variation.\n",
    "\n",
    "\n",
    "**Provided Code:** In the cell below there is some sample code that generates sample inputs.\n",
    "\n",
    "\n",
    "**Your Tasks in this exercise:**\n",
    "1. Implement the softmax function using the naive approach.\n",
    "2. Implement the softmax function using the log-sum trick.\n",
    "3. Compare your two implementations for numerical stability\\\n",
    "(experiment with different values of std) and verify\n",
    "your results using ```tf.nn.softmax```\n",
    "\n"
   ]
  },
  {
   "cell_type": "code",
   "execution_count": 26,
   "metadata": {
    "id": "cva3EHhikaja"
   },
   "outputs": [],
   "source": [
    "import numpy as np\n",
    "import tensorflow as tf\n",
    "\n",
    "mu = 0\n",
    "std = 10\n",
    "xi = mu + std * np.random.randn(10)"
   ]
  },
  {
   "cell_type": "code",
   "execution_count": 27,
   "metadata": {
    "colab": {
     "base_uri": "https://localhost:8080/"
    },
    "id": "8Gy5u41tM941",
    "outputId": "008519e4-1100-4973-cfbf-14b1724695fa"
   },
   "outputs": [
    {
     "name": "stdout",
     "output_type": "stream",
     "text": [
      "Verteilung:  [9.72852690e-01 1.83841060e-07 3.21395510e-03 1.94958472e-11\n",
      " 2.39319587e-02 2.15835805e-07 1.96779454e-09 7.20146508e-12\n",
      " 9.84228752e-07 1.03880354e-08]\n",
      "Summe der Verteilung:  1.0\n",
      "Die Summe der Werte ergibt annaehernd 1 was richtig erscheint.\n"
     ]
    }
   ],
   "source": [
    "# naiver ansatz\n",
    "def naive_softmax(x):\n",
    "  # (e hoch xi) fuer alle xi berechnen\n",
    "  exp_x = np.exp(x)\n",
    "  # diese wert jeweils durch die summe von allen e hoch xi rechnen\n",
    "  return exp_x / np.sum(exp_x)\n",
    "\n",
    "naive_softmax_values = naive_softmax(xi)\n",
    "\n",
    "print(\"Verteilung: \", naive_softmax_values)\n",
    "print(\"Summe der Verteilung: \", np.sum(naive_softmax_values))\n",
    "print(\"Die Summe der Werte ergibt annaehernd 1 was richtig erscheint.\")"
   ]
  },
  {
   "cell_type": "code",
   "execution_count": 28,
   "metadata": {
    "colab": {
     "base_uri": "https://localhost:8080/"
    },
    "id": "-sZdwaM0PskF",
    "outputId": "35e80f46-41fb-45ba-a107-989b5866a03d"
   },
   "outputs": [
    {
     "name": "stdout",
     "output_type": "stream",
     "text": [
      "Verteilung Logsum-Trick:  [9.72852690e-01 1.83841060e-07 3.21395510e-03 1.94958472e-11\n",
      " 2.39319587e-02 2.15835805e-07 1.96779454e-09 7.20146508e-12\n",
      " 9.84228752e-07 1.03880354e-08]\n",
      "Summe der Verteilung:  1.0\n",
      "Die Summe der Werte beim LogSum-Trick ergibt annaehernd 1 was richtig erscheint.\n"
     ]
    }
   ],
   "source": [
    "def softmax_logsum(x):\n",
    "  # max xi als c speichern\n",
    "  c = np.max(x)\n",
    "  # (e hoch (xi - c)) fuer alle xi berechnen\n",
    "  exp_x = np.exp(x - c)\n",
    "  # denumerator (log(d))\n",
    "  ld = c + np.log(np.sum(exp_x))\n",
    "  # e hoch (xi - log(d))\n",
    "  return np.exp(x - ld)\n",
    "\n",
    "logsum_softmax_values = softmax_logsum(xi)\n",
    "\n",
    "print(\"Verteilung Logsum-Trick: \", logsum_softmax_values)\n",
    "print(\"Summe der Verteilung: \", np.sum(naive_softmax_values))\n",
    "print(\"Die Summe der Werte beim LogSum-Trick ergibt annaehernd 1 was richtig erscheint.\")"
   ]
  },
  {
   "cell_type": "code",
   "execution_count": 29,
   "metadata": {
    "colab": {
     "base_uri": "https://localhost:8080/"
    },
    "id": "eF2gZZ58RrN7",
    "outputId": "d3453b71-6db5-4060-9574-71706b6090ab"
   },
   "outputs": [
    {
     "name": "stdout",
     "output_type": "stream",
     "text": [
      "Naive vs LogSum-Trick:  3.408737590575026e-16\n"
     ]
    }
   ],
   "source": [
    "print(\"Naive vs LogSum-Trick: \", np.sum(naive_softmax_values - logsum_softmax_values))"
   ]
  },
  {
   "cell_type": "code",
   "execution_count": 30,
   "metadata": {
    "colab": {
     "base_uri": "https://localhost:8080/"
    },
    "id": "RNTdXZ57UVYz",
    "outputId": "16dc4a9f-bf5b-4a74-82c9-e15452b1e79c"
   },
   "outputs": [
    {
     "name": "stdout",
     "output_type": "stream",
     "text": [
      "Fuer groessere Werte bekommen wir einen Overflow-Warning bei der naiven Variante:  [ 0.  0.  0. nan  0. nan nan  0. nan  0.]\n",
      "Hingegen kann die logsum-variante immernoch Werte berechnen:  [0.00000000e+000 0.00000000e+000 0.00000000e+000 6.55466955e-311\n",
      " 0.00000000e+000 8.92930725e-147 1.00000000e+000 0.00000000e+000\n",
      " 0.00000000e+000 0.00000000e+000]\n"
     ]
    },
    {
     "name": "stderr",
     "output_type": "stream",
     "text": [
      "C:\\Users\\nicok\\AppData\\Local\\Temp\\ipykernel_11800\\1304520670.py:4: RuntimeWarning: overflow encountered in exp\n",
      "  exp_x = np.exp(x)\n",
      "C:\\Users\\nicok\\AppData\\Local\\Temp\\ipykernel_11800\\1304520670.py:6: RuntimeWarning: invalid value encountered in divide\n",
      "  return exp_x / np.sum(exp_x)\n"
     ]
    }
   ],
   "source": [
    "xi2 = mu + 1000 * np.random.randn(10)\n",
    "\n",
    "ns = naive_softmax(xi2)\n",
    "print(\"Fuer groessere Werte bekommen wir einen Overflow-Warning bei der naiven Variante: \", ns)\n",
    "\n",
    "ls = softmax_logsum(xi2)\n",
    "print(\"Hingegen kann die logsum-variante immernoch Werte berechnen: \", ls)"
   ]
  },
  {
   "cell_type": "code",
   "execution_count": 31,
   "metadata": {
    "colab": {
     "base_uri": "https://localhost:8080/"
    },
    "editable": true,
    "id": "HXauULiMPI0r",
    "outputId": "b6c21903-f09a-4972-c13d-e8cd09dc6032",
    "slideshow": {
     "slide_type": ""
    },
    "tags": []
   },
   "outputs": [
    {
     "name": "stdout",
     "output_type": "stream",
     "text": [
      "Differenz Naive-TF:  -4.331634545963528e-19\n",
      "Differenz Logsum-Tf:  -3.4130692251209894e-16\n",
      "Bringt uns sehr kleine Zahlen. Unsere Implementierungen scheinen in dem Fall nicht all zu falsch zu sein.\n"
     ]
    }
   ],
   "source": [
    "tf_softmax = tf.nn.softmax(xi).numpy()\n",
    "\n",
    "print(\"Differenz Naive-TF: \", np.sum(naive_softmax_values - tf_softmax))\n",
    "print(\"Differenz Logsum-Tf: \", np.sum(logsum_softmax_values - tf_softmax))\n",
    "\n",
    "print(\"Bringt uns sehr kleine Zahlen. Unsere Implementierungen scheinen in dem Fall nicht all zu falsch zu sein.\")"
   ]
  },
  {
   "cell_type": "markdown",
   "metadata": {
    "id": "OJtjjh6Ekajb"
   },
   "source": [
    "### Exercise 3 - Chess Endgames\n",
    "\n",
    "**Summary:** In this exercise your task is to predict the optimal depth-of-win for white in   \n",
    "chess-endgames. In particular, we will focus on **king-rook** vs. **king** endgames. The   \n",
    "possible outcomes are either a **draw** or a **number of moves** for white to win (0 to 16).\n",
    "\n",
    "\n",
    "**Provided Code:** The code below loads the original (*unprepared*) raw dataset.   \n",
    "You will have to prepare it accordingly to be used with neural nets.\n",
    "\n",
    "The structure of each row in the dataset is:\n",
    "1. White King column (a-h)\n",
    "2. White King row (1-8)\n",
    "3. White Rook column (a-h)\n",
    "4. White Rook row (1-8)\n",
    "5. Black King column (a-h)\n",
    "6. Black King row (1-8)\n",
    "7. Optimal depth-of-win for White in 0 to 16 moves or a draw\n",
    "\n",
    "\n",
    "**Your Tasks in this exercise:**\n",
    "1. Train a neural net to predict the depth-of-win (or draw) given a board position\n",
    "    * You will have to prepare your data accordingly to make it compatible   \n",
    "    with neural nets. Think about input and output encodings, normalization or standardization.\n",
    "    * Decide how you will model this problem as either regression or classification task.\n",
    "    * Build a fully connected neural net with appropriate configuration and loss and train it.\n",
    "    * Use appropriate cross-validation for training and validation (it is enough to use two datasets)\n",
    "2. Explain in writing:\n",
    "    * How and why did you prepared the data?\n",
    "    * How did you model the problem task?\n",
    "    * What is your neural network architecture/configuration/loss?\n",
    "    * Plot your loss while training.\n",
    "    * Interpret and explain your results.\n",
    "    \n",
    "\n"
   ]
  },
  {
   "cell_type": "code",
   "execution_count": 34,
   "metadata": {
    "colab": {
     "base_uri": "https://localhost:8080/"
    },
    "id": "YSy3aOl4kajb",
    "outputId": "498a90c1-77bb-4cb3-f82c-f9fe266c6da9"
   },
   "outputs": [],
   "source": [
    "# wget call entfernt und datei fix hinterlegt\n",
    "import pickle\n",
    "with open('./chess_endgames.pickle', 'rb') as fd:\n",
    "    chess_endgames = pickle.load(fd)"
   ]
  },
  {
   "cell_type": "code",
   "execution_count": 70,
   "metadata": {},
   "outputs": [],
   "source": [
    "# funktion fuer column-mapping vorbereiten\n",
    "column_mapping = { \"a\": 1, \"b\": 2, \"c\": 3, \"d\": 4, \"e\": 5, \"f\": 6, \"g\": 7, \"h\": 8}\n",
    "\n",
    "def map_columns_to_numbers(column):\n",
    "    # fuer spalten 0, 2 und 4 (alle spalten fuer die column-position)\n",
    "    for i in [0, 2, 4]:\n",
    "        # das vorbereitete dict benutzen um die columns in numerische werte zu uebertragen\n",
    "        column[:, i] = np.vectorize(column_mapping.get)(column[:, i])\n",
    "    return column.astype(int)"
   ]
  },
  {
   "cell_type": "code",
   "execution_count": 74,
   "metadata": {
    "id": "h9G8NNclkajb"
   },
   "outputs": [
    {
     "name": "stdout",
     "output_type": "stream",
     "text": [
      "Epoch 1/50\n",
      "\u001b[1m702/702\u001b[0m \u001b[32m━━━━━━━━━━━━━━━━━━━━\u001b[0m\u001b[37m\u001b[0m \u001b[1m3s\u001b[0m 2ms/step - accuracy: 0.2679 - loss: 2.0332 - val_accuracy: 0.4328 - val_loss: 1.4571\n",
      "Epoch 2/50\n",
      "\u001b[1m702/702\u001b[0m \u001b[32m━━━━━━━━━━━━━━━━━━━━\u001b[0m\u001b[37m\u001b[0m \u001b[1m1s\u001b[0m 1ms/step - accuracy: 0.4268 - loss: 1.4471 - val_accuracy: 0.4879 - val_loss: 1.3047\n",
      "Epoch 3/50\n",
      "\u001b[1m702/702\u001b[0m \u001b[32m━━━━━━━━━━━━━━━━━━━━\u001b[0m\u001b[37m\u001b[0m \u001b[1m1s\u001b[0m 1ms/step - accuracy: 0.4892 - loss: 1.2897 - val_accuracy: 0.5075 - val_loss: 1.1796\n",
      "Epoch 4/50\n",
      "\u001b[1m702/702\u001b[0m \u001b[32m━━━━━━━━━━━━━━━━━━━━\u001b[0m\u001b[37m\u001b[0m \u001b[1m1s\u001b[0m 1ms/step - accuracy: 0.5228 - loss: 1.1724 - val_accuracy: 0.5121 - val_loss: 1.1720\n",
      "Epoch 5/50\n",
      "\u001b[1m702/702\u001b[0m \u001b[32m━━━━━━━━━━━━━━━━━━━━\u001b[0m\u001b[37m\u001b[0m \u001b[1m1s\u001b[0m 1ms/step - accuracy: 0.5660 - loss: 1.0609 - val_accuracy: 0.5734 - val_loss: 1.0070\n",
      "Epoch 6/50\n",
      "\u001b[1m702/702\u001b[0m \u001b[32m━━━━━━━━━━━━━━━━━━━━\u001b[0m\u001b[37m\u001b[0m \u001b[1m1s\u001b[0m 1ms/step - accuracy: 0.5991 - loss: 0.9546 - val_accuracy: 0.6238 - val_loss: 0.9022\n",
      "Epoch 7/50\n",
      "\u001b[1m702/702\u001b[0m \u001b[32m━━━━━━━━━━━━━━━━━━━━\u001b[0m\u001b[37m\u001b[0m \u001b[1m1s\u001b[0m 1ms/step - accuracy: 0.6345 - loss: 0.8707 - val_accuracy: 0.6032 - val_loss: 0.9721\n",
      "Epoch 8/50\n",
      "\u001b[1m702/702\u001b[0m \u001b[32m━━━━━━━━━━━━━━━━━━━━\u001b[0m\u001b[37m\u001b[0m \u001b[1m1s\u001b[0m 1ms/step - accuracy: 0.6577 - loss: 0.8166 - val_accuracy: 0.6725 - val_loss: 0.7787\n",
      "Epoch 9/50\n",
      "\u001b[1m702/702\u001b[0m \u001b[32m━━━━━━━━━━━━━━━━━━━━\u001b[0m\u001b[37m\u001b[0m \u001b[1m1s\u001b[0m 1ms/step - accuracy: 0.6894 - loss: 0.7413 - val_accuracy: 0.6875 - val_loss: 0.7500\n",
      "Epoch 10/50\n",
      "\u001b[1m702/702\u001b[0m \u001b[32m━━━━━━━━━━━━━━━━━━━━\u001b[0m\u001b[37m\u001b[0m \u001b[1m1s\u001b[0m 1ms/step - accuracy: 0.7104 - loss: 0.6998 - val_accuracy: 0.6985 - val_loss: 0.7181\n",
      "Epoch 11/50\n",
      "\u001b[1m702/702\u001b[0m \u001b[32m━━━━━━━━━━━━━━━━━━━━\u001b[0m\u001b[37m\u001b[0m \u001b[1m1s\u001b[0m 1ms/step - accuracy: 0.7181 - loss: 0.6667 - val_accuracy: 0.7181 - val_loss: 0.6688\n",
      "Epoch 12/50\n",
      "\u001b[1m702/702\u001b[0m \u001b[32m━━━━━━━━━━━━━━━━━━━━\u001b[0m\u001b[37m\u001b[0m \u001b[1m1s\u001b[0m 1ms/step - accuracy: 0.7337 - loss: 0.6334 - val_accuracy: 0.7377 - val_loss: 0.6422\n",
      "Epoch 13/50\n",
      "\u001b[1m702/702\u001b[0m \u001b[32m━━━━━━━━━━━━━━━━━━━━\u001b[0m\u001b[37m\u001b[0m \u001b[1m1s\u001b[0m 1ms/step - accuracy: 0.7576 - loss: 0.5862 - val_accuracy: 0.6730 - val_loss: 0.7812\n",
      "Epoch 14/50\n",
      "\u001b[1m702/702\u001b[0m \u001b[32m━━━━━━━━━━━━━━━━━━━━\u001b[0m\u001b[37m\u001b[0m \u001b[1m1s\u001b[0m 1ms/step - accuracy: 0.7557 - loss: 0.5838 - val_accuracy: 0.7420 - val_loss: 0.6293\n",
      "Epoch 15/50\n",
      "\u001b[1m702/702\u001b[0m \u001b[32m━━━━━━━━━━━━━━━━━━━━\u001b[0m\u001b[37m\u001b[0m \u001b[1m1s\u001b[0m 1ms/step - accuracy: 0.7753 - loss: 0.5440 - val_accuracy: 0.7377 - val_loss: 0.6254\n",
      "Epoch 16/50\n",
      "\u001b[1m702/702\u001b[0m \u001b[32m━━━━━━━━━━━━━━━━━━━━\u001b[0m\u001b[37m\u001b[0m \u001b[1m1s\u001b[0m 1ms/step - accuracy: 0.7938 - loss: 0.4993 - val_accuracy: 0.7516 - val_loss: 0.6085\n",
      "Epoch 17/50\n",
      "\u001b[1m702/702\u001b[0m \u001b[32m━━━━━━━━━━━━━━━━━━━━\u001b[0m\u001b[37m\u001b[0m \u001b[1m1s\u001b[0m 1ms/step - accuracy: 0.7966 - loss: 0.4880 - val_accuracy: 0.7767 - val_loss: 0.5421\n",
      "Epoch 18/50\n",
      "\u001b[1m702/702\u001b[0m \u001b[32m━━━━━━━━━━━━━━━━━━━━\u001b[0m\u001b[37m\u001b[0m \u001b[1m1s\u001b[0m 1ms/step - accuracy: 0.8140 - loss: 0.4600 - val_accuracy: 0.7643 - val_loss: 0.5735\n",
      "Epoch 19/50\n",
      "\u001b[1m702/702\u001b[0m \u001b[32m━━━━━━━━━━━━━━━━━━━━\u001b[0m\u001b[37m\u001b[0m \u001b[1m1s\u001b[0m 1ms/step - accuracy: 0.8183 - loss: 0.4400 - val_accuracy: 0.7578 - val_loss: 0.5943\n",
      "Epoch 20/50\n",
      "\u001b[1m702/702\u001b[0m \u001b[32m━━━━━━━━━━━━━━━━━━━━\u001b[0m\u001b[37m\u001b[0m \u001b[1m1s\u001b[0m 1ms/step - accuracy: 0.8192 - loss: 0.4411 - val_accuracy: 0.7819 - val_loss: 0.5476\n",
      "Epoch 21/50\n",
      "\u001b[1m702/702\u001b[0m \u001b[32m━━━━━━━━━━━━━━━━━━━━\u001b[0m\u001b[37m\u001b[0m \u001b[1m1s\u001b[0m 1ms/step - accuracy: 0.8344 - loss: 0.4023 - val_accuracy: 0.7593 - val_loss: 0.6194\n",
      "Epoch 22/50\n",
      "\u001b[1m702/702\u001b[0m \u001b[32m━━━━━━━━━━━━━━━━━━━━\u001b[0m\u001b[37m\u001b[0m \u001b[1m1s\u001b[0m 1ms/step - accuracy: 0.8443 - loss: 0.3858 - val_accuracy: 0.7575 - val_loss: 0.6266\n",
      "Epoch 23/50\n",
      "\u001b[1m702/702\u001b[0m \u001b[32m━━━━━━━━━━━━━━━━━━━━\u001b[0m\u001b[37m\u001b[0m \u001b[1m1s\u001b[0m 1ms/step - accuracy: 0.8391 - loss: 0.3888 - val_accuracy: 0.7949 - val_loss: 0.5162\n",
      "Epoch 24/50\n",
      "\u001b[1m702/702\u001b[0m \u001b[32m━━━━━━━━━━━━━━━━━━━━\u001b[0m\u001b[37m\u001b[0m \u001b[1m1s\u001b[0m 1ms/step - accuracy: 0.8523 - loss: 0.3694 - val_accuracy: 0.7847 - val_loss: 0.5557\n",
      "Epoch 25/50\n",
      "\u001b[1m702/702\u001b[0m \u001b[32m━━━━━━━━━━━━━━━━━━━━\u001b[0m\u001b[37m\u001b[0m \u001b[1m1s\u001b[0m 1ms/step - accuracy: 0.8578 - loss: 0.3568 - val_accuracy: 0.7983 - val_loss: 0.5256\n",
      "Epoch 26/50\n",
      "\u001b[1m702/702\u001b[0m \u001b[32m━━━━━━━━━━━━━━━━━━━━\u001b[0m\u001b[37m\u001b[0m \u001b[1m1s\u001b[0m 1ms/step - accuracy: 0.8658 - loss: 0.3347 - val_accuracy: 0.7979 - val_loss: 0.5244\n",
      "Epoch 27/50\n",
      "\u001b[1m702/702\u001b[0m \u001b[32m━━━━━━━━━━━━━━━━━━━━\u001b[0m\u001b[37m\u001b[0m \u001b[1m1s\u001b[0m 1ms/step - accuracy: 0.8664 - loss: 0.3259 - val_accuracy: 0.8033 - val_loss: 0.5197\n",
      "Epoch 28/50\n",
      "\u001b[1m702/702\u001b[0m \u001b[32m━━━━━━━━━━━━━━━━━━━━\u001b[0m\u001b[37m\u001b[0m \u001b[1m1s\u001b[0m 1ms/step - accuracy: 0.8650 - loss: 0.3352 - val_accuracy: 0.8141 - val_loss: 0.4820\n",
      "Epoch 29/50\n",
      "\u001b[1m702/702\u001b[0m \u001b[32m━━━━━━━━━━━━━━━━━━━━\u001b[0m\u001b[37m\u001b[0m \u001b[1m1s\u001b[0m 1ms/step - accuracy: 0.8796 - loss: 0.3017 - val_accuracy: 0.7896 - val_loss: 0.5733\n",
      "Epoch 30/50\n",
      "\u001b[1m702/702\u001b[0m \u001b[32m━━━━━━━━━━━━━━━━━━━━\u001b[0m\u001b[37m\u001b[0m \u001b[1m1s\u001b[0m 1ms/step - accuracy: 0.8832 - loss: 0.2985 - val_accuracy: 0.7981 - val_loss: 0.5368\n",
      "Epoch 31/50\n",
      "\u001b[1m702/702\u001b[0m \u001b[32m━━━━━━━━━━━━━━━━━━━━\u001b[0m\u001b[37m\u001b[0m \u001b[1m1s\u001b[0m 1ms/step - accuracy: 0.8866 - loss: 0.2859 - val_accuracy: 0.8256 - val_loss: 0.4736\n",
      "Epoch 32/50\n",
      "\u001b[1m702/702\u001b[0m \u001b[32m━━━━━━━━━━━━━━━━━━━━\u001b[0m\u001b[37m\u001b[0m \u001b[1m1s\u001b[0m 1ms/step - accuracy: 0.8912 - loss: 0.2807 - val_accuracy: 0.8068 - val_loss: 0.5217\n",
      "Epoch 33/50\n",
      "\u001b[1m702/702\u001b[0m \u001b[32m━━━━━━━━━━━━━━━━━━━━\u001b[0m\u001b[37m\u001b[0m \u001b[1m1s\u001b[0m 1ms/step - accuracy: 0.8916 - loss: 0.2846 - val_accuracy: 0.8375 - val_loss: 0.4409\n",
      "Epoch 34/50\n",
      "\u001b[1m702/702\u001b[0m \u001b[32m━━━━━━━━━━━━━━━━━━━━\u001b[0m\u001b[37m\u001b[0m \u001b[1m1s\u001b[0m 1ms/step - accuracy: 0.9057 - loss: 0.2451 - val_accuracy: 0.8411 - val_loss: 0.4240\n",
      "Epoch 35/50\n",
      "\u001b[1m702/702\u001b[0m \u001b[32m━━━━━━━━━━━━━━━━━━━━\u001b[0m\u001b[37m\u001b[0m \u001b[1m1s\u001b[0m 1ms/step - accuracy: 0.8985 - loss: 0.2544 - val_accuracy: 0.8184 - val_loss: 0.5060\n",
      "Epoch 36/50\n",
      "\u001b[1m702/702\u001b[0m \u001b[32m━━━━━━━━━━━━━━━━━━━━\u001b[0m\u001b[37m\u001b[0m \u001b[1m1s\u001b[0m 1ms/step - accuracy: 0.8922 - loss: 0.2732 - val_accuracy: 0.8350 - val_loss: 0.4721\n",
      "Epoch 37/50\n",
      "\u001b[1m702/702\u001b[0m \u001b[32m━━━━━━━━━━━━━━━━━━━━\u001b[0m\u001b[37m\u001b[0m \u001b[1m1s\u001b[0m 1ms/step - accuracy: 0.9066 - loss: 0.2435 - val_accuracy: 0.8268 - val_loss: 0.4788\n",
      "Epoch 38/50\n",
      "\u001b[1m702/702\u001b[0m \u001b[32m━━━━━━━━━━━━━━━━━━━━\u001b[0m\u001b[37m\u001b[0m \u001b[1m1s\u001b[0m 1ms/step - accuracy: 0.8990 - loss: 0.2581 - val_accuracy: 0.8396 - val_loss: 0.4300\n",
      "Epoch 39/50\n",
      "\u001b[1m702/702\u001b[0m \u001b[32m━━━━━━━━━━━━━━━━━━━━\u001b[0m\u001b[37m\u001b[0m \u001b[1m1s\u001b[0m 1ms/step - accuracy: 0.9157 - loss: 0.2166 - val_accuracy: 0.8507 - val_loss: 0.4228\n",
      "Epoch 40/50\n",
      "\u001b[1m702/702\u001b[0m \u001b[32m━━━━━━━━━━━━━━━━━━━━\u001b[0m\u001b[37m\u001b[0m \u001b[1m1s\u001b[0m 1ms/step - accuracy: 0.9086 - loss: 0.2372 - val_accuracy: 0.8503 - val_loss: 0.4239\n",
      "Epoch 41/50\n",
      "\u001b[1m702/702\u001b[0m \u001b[32m━━━━━━━━━━━━━━━━━━━━\u001b[0m\u001b[37m\u001b[0m \u001b[1m1s\u001b[0m 1ms/step - accuracy: 0.9152 - loss: 0.2159 - val_accuracy: 0.8409 - val_loss: 0.4393\n",
      "Epoch 42/50\n",
      "\u001b[1m702/702\u001b[0m \u001b[32m━━━━━━━━━━━━━━━━━━━━\u001b[0m\u001b[37m\u001b[0m \u001b[1m1s\u001b[0m 1ms/step - accuracy: 0.9140 - loss: 0.2187 - val_accuracy: 0.8213 - val_loss: 0.5306\n",
      "Epoch 43/50\n",
      "\u001b[1m702/702\u001b[0m \u001b[32m━━━━━━━━━━━━━━━━━━━━\u001b[0m\u001b[37m\u001b[0m \u001b[1m1s\u001b[0m 1ms/step - accuracy: 0.9093 - loss: 0.2353 - val_accuracy: 0.8480 - val_loss: 0.4303\n",
      "Epoch 44/50\n",
      "\u001b[1m702/702\u001b[0m \u001b[32m━━━━━━━━━━━━━━━━━━━━\u001b[0m\u001b[37m\u001b[0m \u001b[1m1s\u001b[0m 1ms/step - accuracy: 0.9032 - loss: 0.2559 - val_accuracy: 0.8437 - val_loss: 0.4648\n",
      "Epoch 45/50\n",
      "\u001b[1m702/702\u001b[0m \u001b[32m━━━━━━━━━━━━━━━━━━━━\u001b[0m\u001b[37m\u001b[0m \u001b[1m1s\u001b[0m 1ms/step - accuracy: 0.9210 - loss: 0.2090 - val_accuracy: 0.8387 - val_loss: 0.4678\n",
      "Epoch 46/50\n",
      "\u001b[1m702/702\u001b[0m \u001b[32m━━━━━━━━━━━━━━━━━━━━\u001b[0m\u001b[37m\u001b[0m \u001b[1m1s\u001b[0m 1ms/step - accuracy: 0.9149 - loss: 0.2211 - val_accuracy: 0.8273 - val_loss: 0.5120\n",
      "Epoch 47/50\n",
      "\u001b[1m702/702\u001b[0m \u001b[32m━━━━━━━━━━━━━━━━━━━━\u001b[0m\u001b[37m\u001b[0m \u001b[1m1s\u001b[0m 1ms/step - accuracy: 0.9137 - loss: 0.2114 - val_accuracy: 0.8550 - val_loss: 0.4415\n",
      "Epoch 48/50\n",
      "\u001b[1m702/702\u001b[0m \u001b[32m━━━━━━━━━━━━━━━━━━━━\u001b[0m\u001b[37m\u001b[0m \u001b[1m1s\u001b[0m 1ms/step - accuracy: 0.9276 - loss: 0.1935 - val_accuracy: 0.8628 - val_loss: 0.4042\n",
      "Epoch 49/50\n",
      "\u001b[1m702/702\u001b[0m \u001b[32m━━━━━━━━━━━━━━━━━━━━\u001b[0m\u001b[37m\u001b[0m \u001b[1m1s\u001b[0m 1ms/step - accuracy: 0.9343 - loss: 0.1702 - val_accuracy: 0.8567 - val_loss: 0.4462\n",
      "Epoch 50/50\n",
      "\u001b[1m702/702\u001b[0m \u001b[32m━━━━━━━━━━━━━━━━━━━━\u001b[0m\u001b[37m\u001b[0m \u001b[1m1s\u001b[0m 1ms/step - accuracy: 0.9287 - loss: 0.1830 - val_accuracy: 0.8573 - val_loss: 0.4412\n"
     ]
    },
    {
     "data": {
      "image/png": "[encoded data removed]",
      "text/plain": [
       "<Figure size 640x480 with 1 Axes>"
      ]
     },
     "metadata": {},
     "output_type": "display_data"
    }
   ],
   "source": [
    "from sklearn.model_selection import train_test_split\n",
    "from sklearn.preprocessing import OneHotEncoder\n",
    "import matplotlib.pyplot as plt\n",
    "\n",
    "# daten in numpy-array umwandeln\n",
    "data = np.array(chess_endgames)\n",
    "\n",
    "# daten in features und erwarteter wert aufteilen\n",
    "X = data[:, :-1]\n",
    "Y = data[:, -1]\n",
    "\n",
    "# column werte (a-h) in nummern umwandeln\n",
    "X = map_columns_to_numbers(X)\n",
    "\n",
    "# erwarteter wert (e.g. draw, one, two...) in one-hot-encoding umwandeln\n",
    "# dafuer muss gereshaped werden\n",
    "Y = Y.reshape(-1, 1) \n",
    "one_hot_encoder = OneHotEncoder(sparse_output=False)\n",
    "Y = one_hot_encoder.fit_transform(Y)\n",
    "\n",
    "# in trainings- und test-daten aufteilen\n",
    "X_train, X_val, y_train, y_val = train_test_split(X, Y, test_size=0.2, random_state=42)\n",
    "\n",
    "# nn-model aufbauen\n",
    "model = tf.keras.Sequential([\n",
    "    tf.keras.layers.Dense(64, activation='relu'),\n",
    "    tf.keras.layers.Dense(128, activation='relu'),\n",
    "    tf.keras.layers.Dense(256, activation='relu'),\n",
    "    tf.keras.layers.Dense(256, activation='relu'),\n",
    "    tf.keras.layers.Dense(128, activation='relu'),\n",
    "    tf.keras.layers.Dense(18, activation='softmax')\n",
    "])\n",
    "\n",
    "# mit adam-optimizer und categorial-crossentropy compilen\n",
    "model.compile(optimizer='adam', loss='categorical_crossentropy', metrics=['accuracy'])\n",
    "\n",
    "# model trainieren\n",
    "history = model.fit(X_train, y_train, validation_data=(X_val, y_val),\n",
    "                    epochs=50, batch_size=32, verbose=1)\n",
    "\n",
    "# daten aus training plotten\n",
    "plt.plot(history.history['loss'], label='Train Loss')\n",
    "plt.plot(history.history['val_loss'], label='Validation Loss')\n",
    "plt.xlabel('Epochen')\n",
    "plt.ylabel('Loss')\n",
    "plt.legend()\n",
    "plt.show()"
   ]
  },
  {
   "cell_type": "code",
   "execution_count": 76,
   "metadata": {},
   "outputs": [
    {
     "name": "stdout",
     "output_type": "stream",
     "text": [
      "Man sieht bereits, dass man eine 92% Accuracy im Training erreichen konnte.\n",
      "Allerdings ist die Abnahme des Validation Loss in spaeteren Epochen nicht mehr gegeben, was bereits auf ein Overfitting der Daten hindeutet.\n",
      "Man koennte mit verschiedenen Techniken versuchen, ein Overfitting zu verhindern (Dropout, Regularisierung, etc...\n"
     ]
    }
   ],
   "source": [
    "print(\"Man sieht bereits, dass man eine 92% Accuracy im Training erreichen konnte.\")\n",
    "print(\"Allerdings ist die Abnahme des Validation Loss in spaeteren Epochen nicht mehr gegeben, was bereits auf ein Overfitting der Daten hindeutet.\")\n",
    "print(\"Man koennte mit verschiedenen Techniken versuchen, ein Overfitting zu verhindern (Dropout, Regularisierung, etc...\")"
   ]
  },
  {
   "cell_type": "code",
   "execution_count": null,
   "metadata": {},
   "outputs": [],
   "source": []
  }
 ],
 "metadata": {
  "celltoolbar": "Edit Metadata",
  "colab": {
   "provenance": []
  },
  "kernelspec": {
   "display_name": "Python 3 (ipykernel)",
   "language": "python",
   "name": "python3"
  },
  "language_info": {
   "codemirror_mode": {
    "name": "ipython",
    "version": 3
   },
   "file_extension": ".py",
   "mimetype": "text/x-python",
   "name": "python",
   "nbconvert_exporter": "python",
   "pygments_lexer": "ipython3",
   "version": "3.12.9"
  }
 },
 "nbformat": 4,
 "nbformat_minor": 4
}
